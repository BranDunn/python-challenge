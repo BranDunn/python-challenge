{
 "cells": [
  {
   "cell_type": "code",
   "execution_count": 1,
   "metadata": {},
   "outputs": [],
   "source": [
    "# Dependencies\n",
    "import pandas as pd"
   ]
  },
  {
   "cell_type": "code",
   "execution_count": 6,
   "metadata": {},
   "outputs": [],
   "source": [
    "# Load in File from resources\n",
    "election_file = \"election_data.csv\""
   ]
  },
  {
   "cell_type": "code",
   "execution_count": 7,
   "metadata": {},
   "outputs": [
    {
     "data": {
      "text/html": [
       "<div>\n",
       "<style scoped>\n",
       "    .dataframe tbody tr th:only-of-type {\n",
       "        vertical-align: middle;\n",
       "    }\n",
       "\n",
       "    .dataframe tbody tr th {\n",
       "        vertical-align: top;\n",
       "    }\n",
       "\n",
       "    .dataframe thead th {\n",
       "        text-align: right;\n",
       "    }\n",
       "</style>\n",
       "<table border=\"1\" class=\"dataframe\">\n",
       "  <thead>\n",
       "    <tr style=\"text-align: right;\">\n",
       "      <th></th>\n",
       "      <th>Voter ID</th>\n",
       "      <th>County</th>\n",
       "      <th>Candidate</th>\n",
       "    </tr>\n",
       "  </thead>\n",
       "  <tbody>\n",
       "    <tr>\n",
       "      <th>0</th>\n",
       "      <td>12864552</td>\n",
       "      <td>Marsh</td>\n",
       "      <td>Khan</td>\n",
       "    </tr>\n",
       "    <tr>\n",
       "      <th>1</th>\n",
       "      <td>17444633</td>\n",
       "      <td>Marsh</td>\n",
       "      <td>Correy</td>\n",
       "    </tr>\n",
       "    <tr>\n",
       "      <th>2</th>\n",
       "      <td>19330107</td>\n",
       "      <td>Marsh</td>\n",
       "      <td>Khan</td>\n",
       "    </tr>\n",
       "    <tr>\n",
       "      <th>3</th>\n",
       "      <td>19865775</td>\n",
       "      <td>Queen</td>\n",
       "      <td>Khan</td>\n",
       "    </tr>\n",
       "    <tr>\n",
       "      <th>4</th>\n",
       "      <td>11927875</td>\n",
       "      <td>Marsh</td>\n",
       "      <td>Khan</td>\n",
       "    </tr>\n",
       "  </tbody>\n",
       "</table>\n",
       "</div>"
      ],
      "text/plain": [
       "   Voter ID County Candidate\n",
       "0  12864552  Marsh      Khan\n",
       "1  17444633  Marsh    Correy\n",
       "2  19330107  Marsh      Khan\n",
       "3  19865775  Queen      Khan\n",
       "4  11927875  Marsh      Khan"
      ]
     },
     "execution_count": 7,
     "metadata": {},
     "output_type": "execute_result"
    }
   ],
   "source": [
    "# Read and display preview with pandas\n",
    "df_original = pd.read_csv(election_file)\n",
    "df_original.head()"
   ]
  },
  {
   "cell_type": "code",
   "execution_count": 39,
   "metadata": {},
   "outputs": [
    {
     "name": "stdout",
     "output_type": "stream",
     "text": [
      "Total votes cast: 3521001\n"
     ]
    }
   ],
   "source": [
    "#find total number of votes cast\n",
    "#check for empty rows\n",
    "df_clean = df_original.dropna(how = 'any')\n",
    "cast_total = df_clean['Voter ID'].count()\n",
    "print('Total votes cast:', cast_total)"
   ]
  },
  {
   "cell_type": "code",
   "execution_count": 40,
   "metadata": {},
   "outputs": [
    {
     "name": "stdout",
     "output_type": "stream",
     "text": [
      "Candidates who received votes: ['Khan', 'Correy', 'Li', \"O'Tooley\"]\n"
     ]
    }
   ],
   "source": [
    "#make list of candidates who received votes\n",
    "candidate_list_long = df_clean['Candidate']\n",
    "\n",
    "# intilize a null list \n",
    "unique_cand_list = [] \n",
    "      \n",
    "# traverse for all elements \n",
    "for x in candidate_list_long: \n",
    "        \n",
    "    # check if exists in unique list or not \n",
    "    if x not in unique_cand_list: \n",
    "        unique_cand_list.append(x) \n",
    "            \n",
    "print('Candidates who received votes:', unique_cand_list)"
   ]
  },
  {
   "cell_type": "code",
   "execution_count": 37,
   "metadata": {},
   "outputs": [
    {
     "name": "stdout",
     "output_type": "stream",
     "text": [
      "2.999999147969569 % of vote is for O'Tooley\n",
      "13.999996023857989 % of vote is for Li\n",
      "19.999994319797125 % of vote is for Correy\n",
      "63.00001050837531 % of vote is for Khan\n"
     ]
    }
   ],
   "source": [
    "#find percentage of votes each candidate won\n",
    "#get total for Khan\n",
    "khan_count = 0\n",
    "\n",
    "for i in candidate_list_long:\n",
    "    if i == 'Khan':\n",
    "        khan_count = khan_count + 1\n",
    "\n",
    "        # percentage for Khan\n",
    "        khan_share = (khan_count / cast_total) * 100\n",
    "\n",
    "#get total and percentage for Correy\n",
    "correy_count = 0\n",
    "\n",
    "for i in candidate_list_long:\n",
    "    if i == 'Correy':\n",
    "        correy_count = correy_count + 1\n",
    "        \n",
    "        #percentage for Correy\n",
    "        correy_share = (correy_count / cast_total) * 100\n",
    "\n",
    "#get total and percentage for Li\n",
    "li_count = 0\n",
    "\n",
    "for i in candidate_list_long:\n",
    "    if i == 'Li':\n",
    "        li_count = li_count + 1\n",
    "        \n",
    "        #percentage for Li\n",
    "        li_share = (li_count / cast_total) * 100\n",
    "\n",
    "#get total and percentage for O'Tooley\n",
    "otooley_count = 0\n",
    "\n",
    "for i in candidate_list_long:\n",
    "    if i == \"O'Tooley\":\n",
    "        otooley_count = otooley_count + 1\n",
    "        \n",
    "        #percentage for O'Tooley\n",
    "        otooley_share = (otooley_count / cast_total) * 100\n",
    "        \n",
    "print(otooley_share, \"%\", \"of vote is for O'Tooley\")\n",
    "print(li_share, '%', 'of vote is for Li')\n",
    "print(correy_share, '%', 'of vote is for Correy')\n",
    "print(khan_share, '%', 'of vote is for Khan')"
   ]
  },
  {
   "cell_type": "code",
   "execution_count": 38,
   "metadata": {},
   "outputs": [
    {
     "name": "stdout",
     "output_type": "stream",
     "text": [
      "2218231 total votes for Khan\n",
      "704200 total votes for Correy\n",
      "492940 total votes for Li\n",
      "105630 total votes for O'Tooley\n"
     ]
    }
   ],
   "source": [
    "#find total number of votes each candidate won\n",
    "print(khan_count, 'total votes for Khan')\n",
    "print(correy_count, 'total votes for Correy')\n",
    "print(li_count, 'total votes for Li')\n",
    "print(otooley_count, \"total votes for O'Tooley\")"
   ]
  },
  {
   "cell_type": "code",
   "execution_count": 36,
   "metadata": {},
   "outputs": [
    {
     "name": "stdout",
     "output_type": "stream",
     "text": [
      "Khan wins!\n"
     ]
    }
   ],
   "source": [
    "#find winner of the election based on popular vote\n",
    "popular_vote = max([khan_count, correy_count, li_count, otooley_count])\n",
    "\n",
    "if popular_vote == khan_count:\n",
    "    winner = 'Khan'\n",
    "if popular_vote == correy_count:\n",
    "    winner = 'Correy'\n",
    "if popular_vote == li_count:\n",
    "    winner = \"Li\"\n",
    "if popular_vote == otooley_count:\n",
    "    winner = \"O'Tooley\"\n",
    "print(winner, 'wins!')"
   ]
  },
  {
   "cell_type": "code",
   "execution_count": null,
   "metadata": {},
   "outputs": [],
   "source": [
    "# print the analysis to the terminal and export a text file with the results.\n",
    "#printing to terminal is built into each cell where appropriate\n",
    "#export a text file with results\n",
    "\n"
   ]
  }
 ],
 "metadata": {
  "anaconda-cloud": {},
  "kernel_info": {
   "name": "python3"
  },
  "kernelspec": {
   "display_name": "Python 3",
   "language": "python",
   "name": "python3"
  },
  "language_info": {
   "codemirror_mode": {
    "name": "ipython",
    "version": 3
   },
   "file_extension": ".py",
   "mimetype": "text/x-python",
   "name": "python",
   "nbconvert_exporter": "python",
   "pygments_lexer": "ipython3",
   "version": "3.6.5"
  },
  "nteract": {
   "version": "0.2.0"
  }
 },
 "nbformat": 4,
 "nbformat_minor": 2
}
